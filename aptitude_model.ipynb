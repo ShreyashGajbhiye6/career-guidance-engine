{
 "cells": [
  {
   "cell_type": "markdown",
   "id": "0fa765e5",
   "metadata": {},
   "source": [
    "# 🧠 Aptitude Model (Random Forest)"
   ]
  },
  {
   "cell_type": "code",
   "execution_count": null,
   "id": "9330fe1a",
   "metadata": {},
   "outputs": [],
   "source": [
    "import pandas as pd\n",
    "from sklearn.ensemble import RandomForestClassifier\n",
    "from sklearn.model_selection import train_test_split\n",
    "from sklearn.metrics import accuracy_score\n",
    "\n",
    "# Sample synthetic dataset\n",
    "data = pd.DataFrame({\n",
    "    'math': [8, 7, 5, 2, 3, 1, 9, 6],\n",
    "    'verbal': [3, 4, 6, 9, 8, 10, 2, 5],\n",
    "    'logical': [7, 6, 5, 3, 4, 2, 8, 6],\n",
    "    'stream': ['STEM', 'STEM', 'Commerce', 'Arts', 'Arts', 'Arts', 'STEM', 'Commerce']\n",
    "})\n",
    "\n",
    "X = data[['math', 'verbal', 'logical']]\n",
    "y = data['stream']\n",
    "\n",
    "# Train-test split\n",
    "X_train, X_test, y_train, y_test = train_test_split(X, y, test_size=0.25, random_state=42)\n",
    "\n",
    "# Model\n",
    "model = RandomForestClassifier()\n",
    "model.fit(X_train, y_train)\n",
    "predictions = model.predict(X_test)\n",
    "\n",
    "# Evaluation\n",
    "print(f\"Accuracy: {accuracy_score(y_test, predictions):.2f}\")"
   ]
  }
 ],
 "metadata": {},
 "nbformat": 4,
 "nbformat_minor": 5
}
