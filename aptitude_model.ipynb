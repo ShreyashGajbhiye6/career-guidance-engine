import pandas as pd
from sklearn.ensemble import RandomForestClassifier
from sklearn.model_selection import train_test_split
from sklearn.metrics import accuracy_score

# Sample synthetic dataset
data = pd.DataFrame({
    'math': [8, 7, 5, 2, 3, 1, 9, 6],
    'verbal': [3, 4, 6, 9, 8, 10, 2, 5],
    'logical': [7, 6, 5, 3, 4, 2, 8, 6],
    'stream': ['STEM', 'STEM', 'Commerce', 'Arts', 'Arts', 'Arts', 'STEM', 'Commerce']
})

X = data[['math', 'verbal', 'logical']]
y = data['stream']

# Train-test split
X_train, X_test, y_train, y_test = train_test_split(X, y, test_size=0.25, random_state=42)

# Model
model = RandomForestClassifier()
model.fit(X_train, y_train)
predictions = model.predict(X_test)

# Evaluation
print(f"Accuracy: {accuracy_score(y_test, predictions):.2f}")
