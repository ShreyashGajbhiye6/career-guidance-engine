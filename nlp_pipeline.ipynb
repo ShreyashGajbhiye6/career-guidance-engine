{
 "cells": [
  {
   "cell_type": "markdown",
   "id": "edc5ee28",
   "metadata": {},
   "source": [
    "# ✨ NLP Career Match with Sentence-BERT"
   ]
  },
  {
   "cell_type": "code",
   "execution_count": null,
   "id": "afa5dc73",
   "metadata": {},
   "outputs": [],
   "source": [
    "from sentence_transformers import SentenceTransformer, util\n",
    "\n",
    "# Load the model\n",
    "model = SentenceTransformer('all-MiniLM-L6-v2')\n",
    "\n",
    "# Example input\n",
    "user_input = \"I love biology and helping people\"\n",
    "careers = {\n",
    "    \"Doctor\": \"Helping people with biology and medicine\",\n",
    "    \"Engineer\": \"Solving technical problems using science\",\n",
    "    \"Lawyer\": \"Helping people with legal matters and justice\"\n",
    "}\n",
    "\n",
    "# Embed\n",
    "user_vec = model.encode(user_input)\n",
    "career_vecs = {role: model.encode(desc) for role, desc in careers.items()}\n",
    "\n",
    "# Similarities\n",
    "for role, vec in career_vecs.items():\n",
    "    sim = util.cos_sim(user_vec, vec).item()\n",
    "    print(f\"{role}: {sim:.2f} similarity\")"
   ]
  }
 ],
 "metadata": {},
 "nbformat": 4,
 "nbformat_minor": 5
}
